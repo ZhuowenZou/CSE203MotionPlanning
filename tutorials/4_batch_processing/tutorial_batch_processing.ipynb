{
 "cells": [
  {
   "cell_type": "markdown",
   "metadata": {},
   "source": [
    "# Tutorial: Batch Processing\n",
    "\n",
    "This tutorial explains how to use the batch processing script to solve CommonRoad planning problems in parallel. The configuration for batch processing is stored in `batch_processing_config.yaml`. Some of the parameters are explained as follows:\n",
    "* **input_path**: input directory of your intended CommonRoad scenarios.\n",
    "* **output_path**: output directory of CommonRoad solution files.\n",
    "* **overwrite**: whether the existing solution files should be overwritten.\n",
    "* **validate_solution**: check the validity of the solutions with the feasibility checker.\n",
    "* **num_worker_processes**: the number of parallel executions of motion planners.\n",
    "\n",
    "Parameters specified under the `default` block will be applied to all scenarios. If you wish to specify a different paramter for specific scenarios, simply insert a new block with the content of the `default` block copied, and overwrite parameters therein. This new block should be named after the ID of the sceanrio that you wish to aplly the parameters to. Related parameters are explained as follows:\n",
    "* **vehicle_model**: model of the vehicle, valid values: **PM, KS, ST and MB**. Refer to [Vehicle Models](https://gitlab.lrz.de/tum-cps/commonroad-vehicle-models/-/blob/master/vehicleModels_commonRoad.pdf) for more information.\n",
    "* **vehicle_type**: type of the vehicle, valid values: **FORD_ESCORT, BMW_320i and VW_VANAGON**.\n",
    "* **cost_function**: id of cost function. Refer to [Cost Functions](https://gitlab.lrz.de/tum-cps/commonroad-cost-functions/-/blob/master/costFunctions_commonRoad.pdf) for more information.\n",
    "* **planner**: the planner that is used to solve for solutions, possible values are: bfs, dfs, dls, ucs, gbfs, astar, student, student_example\n",
    "* **planning_problem_idx**: index of the planning problem. for cooperative scenarios: 0, 1, 2, ..., otherwise: 0\n",
    "* **max_tree_depth**: maximum depth of the search tree\n",
    "* **timeout**: timeout time for motion planner [s].\n",
    "\n",
    "Note: the paths can either be **relative** or **absolute**.\n",
    "To start the search with batch processing, you can either directly run `SMP/batch_processing/batch_processing_parallel.py` in IDEs (e.g. PyCharm) with `commonroad-search/` marked as sources root, or run the following script."
   ]
  },
  {
   "cell_type": "markdown",
   "metadata": {},
   "source": [
    "## Parallel Batch Processing\n",
    "In parallel batch processing, the search are carried out on multiple threads simultaneously. This reduces the overall time required to test your algorithm on all the given scenarios. One drawback is that it is not very easy to debug your code with parallel batch processing."
   ]
  },
  {
   "cell_type": "code",
   "execution_count": 1,
   "metadata": {},
   "outputs": [
    {
     "ename": "ModuleNotFoundError",
     "evalue": "No module named 'commonroad.visualization.draw_dispatch_cr'",
     "output_type": "error",
     "traceback": [
      "\u001b[0;31m---------------------------------------------------------------------------\u001b[0m",
      "\u001b[0;31mModuleNotFoundError\u001b[0m                       Traceback (most recent call last)",
      "\u001b[0;32m<ipython-input-1-a784b31d6d53>\u001b[0m in \u001b[0;36m<module>\u001b[0;34m\u001b[0m\n\u001b[1;32m      8\u001b[0m \u001b[0msys\u001b[0m\u001b[0;34m.\u001b[0m\u001b[0mpath\u001b[0m\u001b[0;34m.\u001b[0m\u001b[0mappend\u001b[0m\u001b[0;34m(\u001b[0m\u001b[0mos\u001b[0m\u001b[0;34m.\u001b[0m\u001b[0mpath\u001b[0m\u001b[0;34m.\u001b[0m\u001b[0mjoin\u001b[0m\u001b[0;34m(\u001b[0m\u001b[0mos\u001b[0m\u001b[0;34m.\u001b[0m\u001b[0mgetcwd\u001b[0m\u001b[0;34m(\u001b[0m\u001b[0;34m)\u001b[0m\u001b[0;34m,\u001b[0m \u001b[0;34m\"../../\"\u001b[0m\u001b[0;34m)\u001b[0m\u001b[0;34m)\u001b[0m\u001b[0;34m\u001b[0m\u001b[0;34m\u001b[0m\u001b[0m\n\u001b[1;32m      9\u001b[0m \u001b[0;34m\u001b[0m\u001b[0m\n\u001b[0;32m---> 10\u001b[0;31m \u001b[0;32mfrom\u001b[0m \u001b[0mSMP\u001b[0m\u001b[0;34m.\u001b[0m\u001b[0mbatch_processing\u001b[0m\u001b[0;34m.\u001b[0m\u001b[0mbatch_processing_parallel\u001b[0m \u001b[0;32mimport\u001b[0m \u001b[0mrun_parallel_processing\u001b[0m\u001b[0;34m\u001b[0m\u001b[0;34m\u001b[0m\u001b[0m\n\u001b[0m",
      "\u001b[0;32m~/Desktop/commonroad-search/tutorials/4_batch_processing/../../SMP/batch_processing/batch_processing_parallel.py\u001b[0m in \u001b[0;36m<module>\u001b[0;34m\u001b[0m\n\u001b[1;32m      3\u001b[0m \u001b[0;32mfrom\u001b[0m \u001b[0mmultiprocessing\u001b[0m \u001b[0;32mimport\u001b[0m \u001b[0mProcess\u001b[0m\u001b[0;34m,\u001b[0m \u001b[0mSemaphore\u001b[0m\u001b[0;34m\u001b[0m\u001b[0;34m\u001b[0m\u001b[0m\n\u001b[1;32m      4\u001b[0m \u001b[0;34m\u001b[0m\u001b[0m\n\u001b[0;32m----> 5\u001b[0;31m \u001b[0;32mimport\u001b[0m \u001b[0mSMP\u001b[0m\u001b[0;34m.\u001b[0m\u001b[0mbatch_processing\u001b[0m\u001b[0;34m.\u001b[0m\u001b[0mhelper_functions\u001b[0m \u001b[0;32mas\u001b[0m \u001b[0mhf\u001b[0m\u001b[0;34m\u001b[0m\u001b[0;34m\u001b[0m\u001b[0m\n\u001b[0m\u001b[1;32m      6\u001b[0m \u001b[0;32mfrom\u001b[0m \u001b[0mSMP\u001b[0m\u001b[0;34m.\u001b[0m\u001b[0mbatch_processing\u001b[0m\u001b[0;34m.\u001b[0m\u001b[0mprocess_scenario\u001b[0m \u001b[0;32mimport\u001b[0m \u001b[0mprocess_scenario\u001b[0m\u001b[0;34m\u001b[0m\u001b[0;34m\u001b[0m\u001b[0m\n\u001b[1;32m      7\u001b[0m \u001b[0;34m\u001b[0m\u001b[0m\n",
      "\u001b[0;32m~/Desktop/commonroad-search/tutorials/4_batch_processing/../../SMP/batch_processing/helper_functions.py\u001b[0m in \u001b[0;36m<module>\u001b[0;34m\u001b[0m\n\u001b[1;32m     20\u001b[0m \u001b[0;32mfrom\u001b[0m \u001b[0mmatplotlib\u001b[0m\u001b[0;34m.\u001b[0m\u001b[0manimation\u001b[0m \u001b[0;32mimport\u001b[0m \u001b[0mFuncAnimation\u001b[0m\u001b[0;34m\u001b[0m\u001b[0;34m\u001b[0m\u001b[0m\n\u001b[1;32m     21\u001b[0m \u001b[0;34m\u001b[0m\u001b[0m\n\u001b[0;32m---> 22\u001b[0;31m \u001b[0;32mfrom\u001b[0m \u001b[0mSMP\u001b[0m\u001b[0;34m.\u001b[0m\u001b[0mbatch_processing\u001b[0m\u001b[0;34m.\u001b[0m\u001b[0mprocess_scenario\u001b[0m \u001b[0;32mimport\u001b[0m \u001b[0mResultType\u001b[0m\u001b[0;34m,\u001b[0m \u001b[0mResultText\u001b[0m\u001b[0;34m,\u001b[0m \u001b[0mSearchResult\u001b[0m\u001b[0;34m\u001b[0m\u001b[0;34m\u001b[0m\u001b[0m\n\u001b[0m\u001b[1;32m     23\u001b[0m \u001b[0;32mfrom\u001b[0m \u001b[0mSMP\u001b[0m\u001b[0;34m.\u001b[0m\u001b[0mbatch_processing\u001b[0m\u001b[0;34m.\u001b[0m\u001b[0mscenario_loader\u001b[0m \u001b[0;32mimport\u001b[0m \u001b[0mScenarioLoader\u001b[0m\u001b[0;34m\u001b[0m\u001b[0;34m\u001b[0m\u001b[0m\n\u001b[1;32m     24\u001b[0m \u001b[0;32mfrom\u001b[0m \u001b[0mSMP\u001b[0m\u001b[0;34m.\u001b[0m\u001b[0mmaneuver_automaton\u001b[0m\u001b[0;34m.\u001b[0m\u001b[0mmaneuver_automaton\u001b[0m \u001b[0;32mimport\u001b[0m \u001b[0mManeuverAutomaton\u001b[0m\u001b[0;34m\u001b[0m\u001b[0;34m\u001b[0m\u001b[0m\n",
      "\u001b[0;32m~/Desktop/commonroad-search/tutorials/4_batch_processing/../../SMP/batch_processing/process_scenario.py\u001b[0m in \u001b[0;36m<module>\u001b[0;34m\u001b[0m\n\u001b[1;32m     17\u001b[0m \u001b[0;34m\u001b[0m\u001b[0m\n\u001b[1;32m     18\u001b[0m \u001b[0;32mimport\u001b[0m \u001b[0mSMP\u001b[0m\u001b[0;34m.\u001b[0m\u001b[0mbatch_processing\u001b[0m\u001b[0;34m.\u001b[0m\u001b[0mhelper_functions\u001b[0m \u001b[0;32mas\u001b[0m \u001b[0mhf\u001b[0m\u001b[0;34m\u001b[0m\u001b[0;34m\u001b[0m\u001b[0m\n\u001b[0;32m---> 19\u001b[0;31m \u001b[0;32mfrom\u001b[0m \u001b[0mSMP\u001b[0m\u001b[0;34m.\u001b[0m\u001b[0mbatch_processing\u001b[0m\u001b[0;34m.\u001b[0m\u001b[0mscenario_loader\u001b[0m \u001b[0;32mimport\u001b[0m \u001b[0mScenarioLoader\u001b[0m\u001b[0;34m,\u001b[0m \u001b[0mScenarioConfig\u001b[0m\u001b[0;34m\u001b[0m\u001b[0;34m\u001b[0m\u001b[0m\n\u001b[0m\u001b[1;32m     20\u001b[0m \u001b[0;32mfrom\u001b[0m \u001b[0mSMP\u001b[0m\u001b[0;34m.\u001b[0m\u001b[0mmaneuver_automaton\u001b[0m\u001b[0;34m.\u001b[0m\u001b[0mmaneuver_automaton\u001b[0m \u001b[0;32mimport\u001b[0m \u001b[0mManeuverAutomaton\u001b[0m\u001b[0;34m\u001b[0m\u001b[0;34m\u001b[0m\u001b[0m\n\u001b[1;32m     21\u001b[0m \u001b[0;32mfrom\u001b[0m \u001b[0mSMP\u001b[0m\u001b[0;34m.\u001b[0m\u001b[0mmotion_planner\u001b[0m\u001b[0;34m.\u001b[0m\u001b[0mmotion_planner\u001b[0m \u001b[0;32mimport\u001b[0m \u001b[0mMotionPlanner\u001b[0m\u001b[0;34m,\u001b[0m \u001b[0mMotionPlannerType\u001b[0m\u001b[0;34m\u001b[0m\u001b[0;34m\u001b[0m\u001b[0m\n",
      "\u001b[0;32m~/Desktop/commonroad-search/tutorials/4_batch_processing/../../SMP/batch_processing/scenario_loader.py\u001b[0m in \u001b[0;36m<module>\u001b[0;34m\u001b[0m\n\u001b[1;32m     16\u001b[0m \u001b[0;34m\u001b[0m\u001b[0m\n\u001b[1;32m     17\u001b[0m \u001b[0;32mimport\u001b[0m \u001b[0mSMP\u001b[0m\u001b[0;34m.\u001b[0m\u001b[0mbatch_processing\u001b[0m\u001b[0;34m.\u001b[0m\u001b[0mhelper_functions\u001b[0m \u001b[0;32mas\u001b[0m \u001b[0mhf\u001b[0m\u001b[0;34m\u001b[0m\u001b[0;34m\u001b[0m\u001b[0m\n\u001b[0;32m---> 18\u001b[0;31m \u001b[0;32mfrom\u001b[0m \u001b[0mSMP\u001b[0m\u001b[0;34m.\u001b[0m\u001b[0mmotion_planner\u001b[0m\u001b[0;34m.\u001b[0m\u001b[0mmotion_planner\u001b[0m \u001b[0;32mimport\u001b[0m \u001b[0mMotionPlannerType\u001b[0m\u001b[0;34m\u001b[0m\u001b[0;34m\u001b[0m\u001b[0m\n\u001b[0m\u001b[1;32m     19\u001b[0m \u001b[0;34m\u001b[0m\u001b[0m\n\u001b[1;32m     20\u001b[0m \u001b[0;34m\u001b[0m\u001b[0m\n",
      "\u001b[0;32m~/Desktop/commonroad-search/tutorials/4_batch_processing/../../SMP/motion_planner/motion_planner.py\u001b[0m in \u001b[0;36m<module>\u001b[0;34m\u001b[0m\n\u001b[1;32m     17\u001b[0m \u001b[0;32mfrom\u001b[0m \u001b[0mSMP\u001b[0m\u001b[0;34m.\u001b[0m\u001b[0mmotion_planner\u001b[0m\u001b[0;34m.\u001b[0m\u001b[0msearch_algorithms\u001b[0m\u001b[0;34m.\u001b[0m\u001b[0mdepth_limited_search\u001b[0m \u001b[0;32mimport\u001b[0m \u001b[0mDepthLimitedSearch\u001b[0m\u001b[0;34m\u001b[0m\u001b[0;34m\u001b[0m\u001b[0m\n\u001b[1;32m     18\u001b[0m \u001b[0;31m# motion planner from student\u001b[0m\u001b[0;34m\u001b[0m\u001b[0;34m\u001b[0m\u001b[0;34m\u001b[0m\u001b[0m\n\u001b[0;32m---> 19\u001b[0;31m \u001b[0;32mfrom\u001b[0m \u001b[0mSMP\u001b[0m\u001b[0;34m.\u001b[0m\u001b[0mmotion_planner\u001b[0m\u001b[0;34m.\u001b[0m\u001b[0msearch_algorithms\u001b[0m\u001b[0;34m.\u001b[0m\u001b[0mstudent\u001b[0m \u001b[0;32mimport\u001b[0m \u001b[0mStudentMotionPlanner\u001b[0m\u001b[0;34m\u001b[0m\u001b[0;34m\u001b[0m\u001b[0m\n\u001b[0m\u001b[1;32m     20\u001b[0m \u001b[0;32mfrom\u001b[0m \u001b[0mSMP\u001b[0m\u001b[0;34m.\u001b[0m\u001b[0mmotion_planner\u001b[0m\u001b[0;34m.\u001b[0m\u001b[0msearch_algorithms\u001b[0m\u001b[0;34m.\u001b[0m\u001b[0mstudent_example\u001b[0m \u001b[0;32mimport\u001b[0m \u001b[0mStudentMotionPlannerExample\u001b[0m\u001b[0;34m\u001b[0m\u001b[0;34m\u001b[0m\u001b[0m\n\u001b[1;32m     21\u001b[0m \u001b[0;34m\u001b[0m\u001b[0m\n",
      "\u001b[0;32m~/Desktop/commonroad-search/tutorials/4_batch_processing/../../SMP/motion_planner/search_algorithms/student.py\u001b[0m in \u001b[0;36m<module>\u001b[0;34m\u001b[0m\n\u001b[1;32m     12\u001b[0m \u001b[0;34m\u001b[0m\u001b[0m\n\u001b[1;32m     13\u001b[0m \u001b[0;31m#commonroad\u001b[0m\u001b[0;34m\u001b[0m\u001b[0;34m\u001b[0m\u001b[0;34m\u001b[0m\u001b[0m\n\u001b[0;32m---> 14\u001b[0;31m \u001b[0;32mfrom\u001b[0m \u001b[0mcommonroad\u001b[0m\u001b[0;34m.\u001b[0m\u001b[0mvisualization\u001b[0m\u001b[0;34m.\u001b[0m\u001b[0mdraw_dispatch_cr\u001b[0m \u001b[0;32mimport\u001b[0m \u001b[0mdraw_object\u001b[0m\u001b[0;34m\u001b[0m\u001b[0;34m\u001b[0m\u001b[0m\n\u001b[0m\u001b[1;32m     15\u001b[0m \u001b[0;32mimport\u001b[0m \u001b[0mcopy\u001b[0m\u001b[0;34m\u001b[0m\u001b[0;34m\u001b[0m\u001b[0m\n\u001b[1;32m     16\u001b[0m \u001b[0;34m\u001b[0m\u001b[0m\n",
      "\u001b[0;31mModuleNotFoundError\u001b[0m: No module named 'commonroad.visualization.draw_dispatch_cr'"
     ]
    }
   ],
   "source": [
    "%load_ext autoreload\n",
    "%autoreload 2\n",
    "\n",
    "import os\n",
    "import sys\n",
    "\n",
    "# add the folder containing batch processing script into python path\n",
    "sys.path.append(os.path.join(os.getcwd(), \"../../\"))\n",
    "\n",
    "from SMP.batch_processing.batch_processing_parallel import run_parallel_processing"
   ]
  },
  {
   "cell_type": "code",
   "execution_count": null,
   "metadata": {},
   "outputs": [],
   "source": [
    "run_parallel_processing()"
   ]
  },
  {
   "cell_type": "markdown",
   "metadata": {},
   "source": [
    "## Sequential Batch Processing\n",
    "\n",
    "Alternatively, one can use the `SMP/batch_processing/batch_processing_sequential.py` script to carry out the search sequentially on a single thread. This is a more user-friendly approach if you wish you debug your code in IDES (e.g. creating breakpoints in PyCharm) but still have it run against multiple scenarios."
   ]
  },
  {
   "cell_type": "code",
   "execution_count": null,
   "metadata": {},
   "outputs": [],
   "source": [
    "from SMP.batch_processing.batch_processing_sequential import run_sequential_processing\n",
    "run_sequential_processing()"
   ]
  }
 ],
 "metadata": {
  "kernelspec": {
   "display_name": "Python 3",
   "language": "python",
   "name": "python3"
  },
  "language_info": {
   "codemirror_mode": {
    "name": "ipython",
    "version": 3
   },
   "file_extension": ".py",
   "mimetype": "text/x-python",
   "name": "python",
   "nbconvert_exporter": "python",
   "pygments_lexer": "ipython3",
   "version": "3.7.11"
  }
 },
 "nbformat": 4,
 "nbformat_minor": 4
}
