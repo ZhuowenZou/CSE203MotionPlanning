{
 "cells": [
  {
   "cell_type": "code",
   "execution_count": 2,
   "id": "ae388ab7",
   "metadata": {},
   "outputs": [
    {
     "ename": "ModuleNotFoundError",
     "evalue": "No module named 'SMP.route_planner'",
     "output_type": "error",
     "traceback": [
      "\u001b[0;31m---------------------------------------------------------------------------\u001b[0m",
      "\u001b[0;31mModuleNotFoundError\u001b[0m                       Traceback (most recent call last)",
      "\u001b[0;32m<ipython-input-2-018a676e27bf>\u001b[0m in \u001b[0;36m<module>\u001b[0;34m\u001b[0m\n\u001b[1;32m     27\u001b[0m \u001b[0;31m#local libaries for search\u001b[0m\u001b[0;34m\u001b[0m\u001b[0;34m\u001b[0m\u001b[0;34m\u001b[0m\u001b[0m\n\u001b[1;32m     28\u001b[0m \u001b[0;34m\u001b[0m\u001b[0m\n\u001b[0;32m---> 29\u001b[0;31m \u001b[0;32mfrom\u001b[0m \u001b[0mSMP\u001b[0m\u001b[0;34m.\u001b[0m\u001b[0mroute_planner\u001b[0m\u001b[0;34m.\u001b[0m\u001b[0mroute_planner\u001b[0m\u001b[0;34m.\u001b[0m\u001b[0mroute_planner\u001b[0m \u001b[0;32mimport\u001b[0m \u001b[0mRoutePlanner\u001b[0m\u001b[0;34m\u001b[0m\u001b[0;34m\u001b[0m\u001b[0m\n\u001b[0m",
      "\u001b[0;31mModuleNotFoundError\u001b[0m: No module named 'SMP.route_planner'"
     ]
    }
   ],
   "source": [
    "\"\"\"\n",
    "Forked from the student.py in the commonroad-search repository. https://gitlab.lrz.de/tum-cps/commonroad-search\n",
    "\"\"\"\n",
    "\n",
    "__author__ = \"Michael Feil\"\n",
    "\n",
    "#libaries\n",
    "from scipy import spatial\n",
    "import numpy as np\n",
    "import time\n",
    "import math\n",
    "\n",
    "#commonroad\n",
    "# from commonroad.visualization.draw_dispatch_cr import draw_object\n",
    "import copy\n",
    "\n",
    "#local search libaries\n",
    "from SMP.motion_planner.node import PriorityNode\n",
    "\n",
    "from SMP.motion_planner.plot_config import DefaultPlotConfig\n",
    "from SMP.motion_planner.search_algorithms.best_first_search import GreedyBestFirstSearch\n",
    "from SMP.motion_planner.utility import MotionPrimitiveStatus, initial_visualization, update_visualization\n",
    "\n",
    "from SMP.motion_planner.queue import PriorityQueue\n",
    "\n",
    "\n",
    "#local libaries for search\n",
    "\n",
    "from SMP.route_planner.route_planner.route_planner import RoutePlanner"
   ]
  },
  {
   "cell_type": "code",
   "execution_count": null,
   "id": "e8e2cb2b",
   "metadata": {},
   "outputs": [],
   "source": []
  }
 ],
 "metadata": {
  "kernelspec": {
   "display_name": "Python 3",
   "language": "python",
   "name": "python3"
  },
  "language_info": {
   "codemirror_mode": {
    "name": "ipython",
    "version": 3
   },
   "file_extension": ".py",
   "mimetype": "text/x-python",
   "name": "python",
   "nbconvert_exporter": "python",
   "pygments_lexer": "ipython3",
   "version": "3.7.11"
  }
 },
 "nbformat": 4,
 "nbformat_minor": 5
}
